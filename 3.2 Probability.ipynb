{
 "cells": [
  {
   "cell_type": "code",
   "execution_count": 5,
   "metadata": {},
   "outputs": [
    {
     "name": "stdout",
     "output_type": "stream",
     "text": [
      "0.0625\n",
      "0.0625\n",
      "0.0625\n"
     ]
    }
   ],
   "source": [
    "#Question 1:\n",
    "heads = 1/2\n",
    "tails = 1/2\n",
    "\n",
    "HTTH = heads * tails * tails * heads\n",
    "print(HTTH)\n",
    "\n",
    "\n",
    "HHHH =heads * heads * heads * heads\n",
    "print(HHHH)\n",
    "\n",
    "TTHH = tails * tails * heads * heads\n",
    "print(TTHH)"
   ]
  },
  {
   "cell_type": "markdown",
   "metadata": {},
   "source": [
    "Questions 2 :\n",
    "\n",
    "Probability of not choosing a man is 21/45"
   ]
  },
  {
   "cell_type": "code",
   "execution_count": 30,
   "metadata": {},
   "outputs": [
    {
     "name": "stdout",
     "output_type": "stream",
     "text": [
      "0.000500%\n"
     ]
    }
   ],
   "source": [
    "###Questions 3: \n",
    "on_a_plane = 1/10\n",
    "plane_crash = .00005\n",
    "\n",
    "bernice = on_a_plane * plane_crash\n",
    "print(format(bernice,'%'))"
   ]
  },
  {
   "cell_type": "markdown",
   "metadata": {},
   "source": [
    "Question 4:\n",
    "The problem is that we sample is only taking into account the 5% of people who are clicking yes on the survey. Its very likely that\n",
    "a person who is willing to take the time to fill out a survey on the site has much more free time to spend on the site.\n",
    "This sample is not indicative of the entire population of site users. "
   ]
  },
  {
   "cell_type": "code",
   "execution_count": null,
   "metadata": {},
   "outputs": [],
   "source": []
  }
 ],
 "metadata": {
  "kernelspec": {
   "display_name": "Python 3",
   "language": "python",
   "name": "python3"
  },
  "language_info": {
   "codemirror_mode": {
    "name": "ipython",
    "version": 3
   },
   "file_extension": ".py",
   "mimetype": "text/x-python",
   "name": "python",
   "nbconvert_exporter": "python",
   "pygments_lexer": "ipython3",
   "version": "3.6.5"
  }
 },
 "nbformat": 4,
 "nbformat_minor": 2
}
