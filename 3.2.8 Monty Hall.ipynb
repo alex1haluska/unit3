{
 "cells": [
  {
   "cell_type": "markdown",
   "metadata": {},
   "source": [
    "I belive it is in your best interest to switch doors. When you first choose the door - you have a 1/3 chance of choosing\n",
    "the grand prize. Once the host has identified one of the doors coes not contain the prize - this additonal information \n",
    "changes the odds. While it would probally be heartbreaking to switch doors and move away from the car - switching doors would be your best bet. "
   ]
  },
  {
   "cell_type": "code",
   "execution_count": null,
   "metadata": {},
   "outputs": [],
   "source": []
  }
 ],
 "metadata": {
  "kernelspec": {
   "display_name": "Python 3",
   "language": "python",
   "name": "python3"
  },
  "language_info": {
   "codemirror_mode": {
    "name": "ipython",
    "version": 3
   },
   "file_extension": ".py",
   "mimetype": "text/x-python",
   "name": "python",
   "nbconvert_exporter": "python",
   "pygments_lexer": "ipython3",
   "version": "3.6.5"
  }
 },
 "nbformat": 4,
 "nbformat_minor": 2
}
