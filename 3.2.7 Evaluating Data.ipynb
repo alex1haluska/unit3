{
 "cells": [
  {
   "cell_type": "markdown",
   "metadata": {},
   "source": [
    "Question 1 : \n",
    "    Given that the data was taken on Christmas Eve the data may be heavily skewed due to Exceptional Circumstance. Many more \n",
    "    people are likely in town and want to stay close to the freinds / familiy they are visiting rather than near the popular\n",
    "    areas o the city. Also could be less people renting out air b n bs becasue they want to be home for the holiday."
   ]
  },
  {
   "cell_type": "markdown",
   "metadata": {},
   "source": [
    "Question 2 : Given the tragic events of 9/11/2001 which took place in NY it is hard to look at this sample as a fair comparison \n",
    "    of the two cities. \n",
    "    "
   ]
  },
  {
   "cell_type": "markdown",
   "metadata": {},
   "source": [
    "Question 3: Data Set seems to be heaviley skewed to students - and contains data from people under the age of 21 who are \n",
    "    not allowed to drink (assuming this is a US study)"
   ]
  },
  {
   "cell_type": "code",
   "execution_count": null,
   "metadata": {},
   "outputs": [],
   "source": []
  }
 ],
 "metadata": {
  "kernelspec": {
   "display_name": "Python 3",
   "language": "python",
   "name": "python3"
  },
  "language_info": {
   "codemirror_mode": {
    "name": "ipython",
    "version": 3
   },
   "file_extension": ".py",
   "mimetype": "text/x-python",
   "name": "python",
   "nbconvert_exporter": "python",
   "pygments_lexer": "ipython3",
   "version": "3.6.5"
  }
 },
 "nbformat": 4,
 "nbformat_minor": 2
}
