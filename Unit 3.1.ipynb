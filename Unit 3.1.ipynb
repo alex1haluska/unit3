{
 "cells": [
  {
   "cell_type": "code",
   "execution_count": 1,
   "metadata": {},
   "outputs": [],
   "source": [
    "import numpy as np\n",
    "import pandas as pd\n",
    "import statistics\n",
    "%matplotlib inline"
   ]
  },
  {
   "cell_type": "code",
   "execution_count": 42,
   "metadata": {},
   "outputs": [
    {
     "name": "stdout",
     "output_type": "stream",
     "text": [
      "The average age of the Children was 9.857142857142858\n",
      "The median age of the Children was 10.0\n",
      "The Mode of the Childen's ages was 8\n",
      "The Standard Deviation is 2.531435020952764 with a Standard Error of 1.0334540197243192\n",
      "The varience of the ages is 7.476190476190475\n"
     ]
    }
   ],
   "source": [
    "name= ['Greg','Marcia','Peter','Jan','Bobby','Cindy','Cousin Oliver']\n",
    "brady_bunch = pd.DataFrame(index=name)\n",
    "brady_bunch['age'] = [14,12,11,10,8,6,8]\n",
    "\n",
    "### MEAN\n",
    "print('The average age of the Children was '+str(np.mean(brady_bunch['age'])))\n",
    "\n",
    "### Median\n",
    "print('The median age of the Children was '+str(np.median(brady_bunch['age'])))\n",
    "\n",
    "##Mode\n",
    "(values, counts) = np.unique(brady_bunch['age'], return_counts=True)\n",
    "ind = np.argmax(counts)\n",
    "print('The Mode of the Childen\\'s ages was '+str(values[ind]))\n",
    "\n",
    "##Standard Deviation and Error\n",
    "print('The Standard Deviation is '+str(np.std(brady_bunch['age']))+' with a Standard Error of '+str(np.std(brady_bunch['age'] ,ddof=1) / np.sqrt(len(brady_bunch['age']))))\n",
    "\n",
    "### Variance \n",
    "print('The varience of the ages is '+str(brady_bunch['age'].var()))\n",
    "\n",
    "### how do i set the the number to be two decmial and than covnert to a string ?? Do I need to convert to a string?"
   ]
  },
  {
   "cell_type": "markdown",
   "metadata": {},
   "source": [
    "Question 2: \n",
    "I would choose mean of the children. Although the mean and the median are very similar I feel like the mode being below ten\n",
    "does a better job of showing how young the group of children is. \n",
    "\n",
    "I would go with the standard deviation. The variance in age is quite large with one chold being 6 and the othe rbeing 14. I feel\n",
    "that the standard deviation give a better look at the group as a whole\n"
   ]
  },
  {
   "cell_type": "code",
   "execution_count": 51,
   "metadata": {},
   "outputs": [
    {
     "name": "stdout",
     "output_type": "stream",
     "text": [
      "The average age of the Children was 10.0\n",
      "The median age of the Children was 10.0\n",
      "The Mode of the Childen's ages was 8\n",
      "The Standard Deviation is 2.32992949004287 with a Standard Error of 0.9511897312113418\n",
      "The varience of the ages is 6.333333333333333\n"
     ]
    }
   ],
   "source": [
    "brady_bunch.at['Cindy', 'age']= 7\n",
    "### MEAN\n",
    "print('The average age of the Children was '+str(np.mean(brady_bunch['age'])))\n",
    "\n",
    "### Median\n",
    "print('The median age of the Children was '+str(np.median(brady_bunch['age'])))\n",
    "\n",
    "##Mode\n",
    "(values, counts) = np.unique(brady_bunch['age'], return_counts=True)\n",
    "ind = np.argmax(counts)\n",
    "print('The Mode of the Childen\\'s ages was '+str(values[ind]))\n",
    "\n",
    "##Standard Deviation and Error\n",
    "print('The Standard Deviation is '+str(np.std(brady_bunch['age']))+' with a Standard Error of '+str(np.std(brady_bunch['age'] ,ddof=1) / np.sqrt(len(brady_bunch['age']))))\n",
    "\n",
    "### Variance \n",
    "print('The varience of the ages is '+str(brady_bunch['age'].var()))"
   ]
  },
  {
   "cell_type": "markdown",
   "metadata": {},
   "source": [
    "Question 3:\n",
    "    We saw the mode ,standard Deviation and variance change but the median and mode stayed the same. "
   ]
  },
  {
   "cell_type": "code",
   "execution_count": 67,
   "metadata": {},
   "outputs": [
    {
     "name": "stdout",
     "output_type": "stream",
     "text": [
      "The average age of the Children was 8.857142857142858\n",
      "The median age of the Children was 10.0\n",
      "The Mode of the Childen's ages was 1\n",
      "The Standard Deviation is 4.015276949301485 with a Standard Error of 0.9511897312113418\n",
      "The varience of the ages is 18.80952380952381\n"
     ]
    }
   ],
   "source": [
    "name_change= ['Greg','Marcia','Peter','Jan','Bobby','Cindy','Jessica']\n",
    "brady_bunch2 = pd.DataFrame(index=name_change)\n",
    "brady_bunch2['age'] = [14,12,11,10,8,6,1]\n",
    "\n",
    "### MEAN\n",
    "print('The average age of the Children was '+str(np.mean(brady_bunch2['age'])))\n",
    "\n",
    "### Median\n",
    "print('The median age of the Children was '+str(np.median(brady_bunch2['age'])))\n",
    "\n",
    "##Mode\n",
    "(values, counts) = np.unique(brady_bunch2['age'], return_counts=True)\n",
    "ind = np.argmax(counts)\n",
    "print('The Mode of the Childen\\'s ages was '+str(values[ind]))\n",
    "\n",
    "##Standard Deviation and Error\n",
    "print('The Standard Deviation is '+str(np.std(brady_bunch2['age']))+' with a Standard Error of '+str(np.std(brady_bunch['age'] ,ddof=1) / np.sqrt(len(brady_bunch['age']))))\n",
    "\n",
    "### Variance \n",
    "print('The varience of the ages is '+str(brady_bunch2['age'].var()))\n",
    "\n",
    "### adding and removing elements in a DF unclear"
   ]
  },
  {
   "cell_type": "markdown",
   "metadata": {},
   "source": [
    "The change in age caused a a shift in all stats outside the median. The Mode came back as one but which I know is untrue so we know that we have no mode. "
   ]
  },
  {
   "cell_type": "code",
   "execution_count": 70,
   "metadata": {},
   "outputs": [
    {
     "data": {
      "text/html": [
       "<div>\n",
       "<style scoped>\n",
       "    .dataframe tbody tr th:only-of-type {\n",
       "        vertical-align: middle;\n",
       "    }\n",
       "\n",
       "    .dataframe tbody tr th {\n",
       "        vertical-align: top;\n",
       "    }\n",
       "\n",
       "    .dataframe thead th {\n",
       "        text-align: right;\n",
       "    }\n",
       "</style>\n",
       "<table border=\"1\" class=\"dataframe\">\n",
       "  <thead>\n",
       "    <tr style=\"text-align: right;\">\n",
       "      <th></th>\n",
       "      <th>people_score</th>\n",
       "    </tr>\n",
       "  </thead>\n",
       "  <tbody>\n",
       "    <tr>\n",
       "      <th>count</th>\n",
       "      <td>4.000000</td>\n",
       "    </tr>\n",
       "    <tr>\n",
       "      <th>mean</th>\n",
       "      <td>0.162500</td>\n",
       "    </tr>\n",
       "    <tr>\n",
       "      <th>std</th>\n",
       "      <td>0.078899</td>\n",
       "    </tr>\n",
       "    <tr>\n",
       "      <th>min</th>\n",
       "      <td>0.050000</td>\n",
       "    </tr>\n",
       "    <tr>\n",
       "      <th>25%</th>\n",
       "      <td>0.140000</td>\n",
       "    </tr>\n",
       "    <tr>\n",
       "      <th>50%</th>\n",
       "      <td>0.185000</td>\n",
       "    </tr>\n",
       "    <tr>\n",
       "      <th>75%</th>\n",
       "      <td>0.207500</td>\n",
       "    </tr>\n",
       "    <tr>\n",
       "      <th>max</th>\n",
       "      <td>0.230000</td>\n",
       "    </tr>\n",
       "  </tbody>\n",
       "</table>\n",
       "</div>"
      ],
      "text/plain": [
       "       people_score\n",
       "count      4.000000\n",
       "mean       0.162500\n",
       "std        0.078899\n",
       "min        0.050000\n",
       "25%        0.140000\n",
       "50%        0.185000\n",
       "75%        0.207500\n",
       "max        0.230000"
      ]
     },
     "execution_count": 70,
     "metadata": {},
     "output_type": "execute_result"
    }
   ],
   "source": [
    "magazine = ['TV Guide','Entertainment Weekly','Pop Culture','SciPhi']\n",
    "df = pd.DataFrame(index=magazine)\n",
    "df['people_score'] = [.20,.23,.17,.05]\n",
    "df.describe()\n"
   ]
  },
  {
   "cell_type": "markdown",
   "metadata": {},
   "source": [
    "I would say that an average of around 16% of people were fans of the brady bunch. "
   ]
  },
  {
   "cell_type": "code",
   "execution_count": null,
   "metadata": {},
   "outputs": [],
   "source": []
  }
 ],
 "metadata": {
  "kernelspec": {
   "display_name": "Python 3",
   "language": "python",
   "name": "python3"
  },
  "language_info": {
   "codemirror_mode": {
    "name": "ipython",
    "version": 3
   },
   "file_extension": ".py",
   "mimetype": "text/x-python",
   "name": "python",
   "nbconvert_exporter": "python",
   "pygments_lexer": "ipython3",
   "version": "3.6.5"
  }
 },
 "nbformat": 4,
 "nbformat_minor": 2
}
